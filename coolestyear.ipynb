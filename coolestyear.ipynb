{
 "cells": [
  {
   "cell_type": "code",
   "execution_count": 3,
   "metadata": {},
   "outputs": [
    {
     "name": "stdout",
     "output_type": "stream",
     "text": [
      "Month with minimum temperature of 10 is january\n",
      "Month with maximum temperature of 46 is may\n"
     ]
    }
   ],
   "source": [
    "# Import the required packages\n",
    "import numpy as np  # For calculating min and max temperatures\n",
    "\n",
    "# Open the weather data file\n",
    "myfile = open(\"weatherdata.txt\", \"r\")\n",
    "txt = myfile.read()\n",
    "months = []\n",
    "min_temp = []\n",
    "max_temp = []\n",
    "total_list = txt.split(\",\")\n",
    "for i in range(len(total_list)):\n",
    "    if i % 3 == 0:\n",
    "        months.append(total_list[i].strip(\"\\n\"))\n",
    "    elif i % 3 == 1:\n",
    "        min_temp.append(int(total_list[i]))\n",
    "    else:\n",
    "        max_temp.append(int(total_list[i]))\n",
    "\n",
    "# Find the month with the minimum temperature\n",
    "minimum_index = np.argmin(min_temp)\n",
    "minimum = min_temp[minimum_index]\n",
    "min_month = months[minimum_index]\n",
    "\n",
    "# Find the month with the maximum temperature\n",
    "maximum_index = np.argmax(max_temp)\n",
    "maximum = max_temp[maximum_index]\n",
    "max_month = months[maximum_index]\n",
    "\n",
    "# Print the results\n",
    "print(\"Month with minimum temperature of {} is {}\".format(minimum, min_month))\n",
    "print(\"Month with maximum temperature of {} is {}\".format(maximum, max_month))\n",
    "\n",
    "# Close the file\n",
    "myfile.close()\n"
   ]
  },
  {
   "cell_type": "code",
   "execution_count": null,
   "metadata": {},
   "outputs": [],
   "source": []
  }
 ],
 "metadata": {
  "kernelspec": {
   "display_name": "Python 3",
   "language": "python",
   "name": "python3"
  },
  "language_info": {
   "codemirror_mode": {
    "name": "ipython",
    "version": 3
   },
   "file_extension": ".py",
   "mimetype": "text/x-python",
   "name": "python",
   "nbconvert_exporter": "python",
   "pygments_lexer": "ipython3",
   "version": "3.8.8"
  },
  "orig_nbformat": 4
 },
 "nbformat": 4,
 "nbformat_minor": 2
}
