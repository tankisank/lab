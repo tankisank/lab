{
 "cells": [
  {
   "cell_type": "markdown",
   "metadata": {
    "id": "2XC6gUyImv7H"
   },
   "source": [
    "# Autoencoder"
   ]
  },
  {
   "cell_type": "markdown",
   "metadata": {
    "id": "-Yb3x-mfmv7I"
   },
   "source": [
    "### Importing Libraries"
   ]
  },
  {
   "cell_type": "code",
   "execution_count": 1,
   "metadata": {
    "colab": {
     "base_uri": "https://localhost:8080/",
     "height": 34
    },
    "id": "1XOK428Gmv7J",
    "outputId": "96ffc521-2d96-4ae6-ce71-1ee5b8d996b5"
   },
   "outputs": [
    {
     "name": "stderr",
     "output_type": "stream",
     "text": [
      "D:\\Users\\user\\anaconda3\\lib\\site-packages\\scipy\\__init__.py:146: UserWarning: A NumPy version >=1.16.5 and <1.23.0 is required for this version of SciPy (detected version 1.23.5\n",
      "  warnings.warn(f\"A NumPy version >={np_minversion} and <{np_maxversion}\"\n"
     ]
    }
   ],
   "source": [
    "from keras.models import Model\n",
    "from keras.layers import Dense, Input\n",
    "from keras.datasets import mnist\n",
    "import numpy as np\n",
    "import matplotlib.pyplot as plt\n",
    "%matplotlib inline\n",
    "\n",
    "import warnings\n",
    "warnings.filterwarnings('ignore')"
   ]
  },
  {
   "cell_type": "markdown",
   "metadata": {
    "id": "9WWZWSjcmv7P"
   },
   "source": [
    "### Preparing Dataset"
   ]
  },
  {
   "cell_type": "code",
   "execution_count": 2,
   "metadata": {
    "colab": {
     "base_uri": "https://localhost:8080/",
     "height": 84
    },
    "id": "UirJB2DQmv7Q",
    "outputId": "505c7d48-acdb-4740-db68-4a1d496c9c40"
   },
   "outputs": [
    {
     "name": "stdout",
     "output_type": "stream",
     "text": [
      "(60000, 784)\n",
      "(10000, 784)\n"
     ]
    }
   ],
   "source": [
    "# Load MNIST Dataset\n",
    "(x_train, _), (x_test, _) = mnist.load_data()\n",
    "x_train = x_train.astype('float32') / 255.\n",
    "x_test = x_test.astype('float32') / 255.\n",
    "x_train = x_train.reshape((len(x_train), np.prod(x_train.shape[1:])))\n",
    "x_test = x_test.reshape((len(x_test), np.prod(x_test.shape[1:])))\n",
    "print(x_train.shape)\n",
    "print(x_test.shape)"
   ]
  },
  {
   "cell_type": "markdown",
   "metadata": {
    "id": "EgaFOKTEmv8i"
   },
   "source": [
    "# Denoising Autoencoder"
   ]
  },
  {
   "cell_type": "markdown",
   "metadata": {
    "collapsed": true,
    "id": "IeGR_Tb4mv8j"
   },
   "source": [
    "### Adding noise"
   ]
  },
  {
   "cell_type": "code",
   "execution_count": 3,
   "metadata": {
    "colab": {
     "base_uri": "https://localhost:8080/",
     "height": 50
    },
    "id": "FH2fH9c3mv8k",
    "outputId": "46ed4d6c-3b75-4cc0-e762-f439801e2111"
   },
   "outputs": [
    {
     "name": "stdout",
     "output_type": "stream",
     "text": [
      "(60000, 784)\n",
      "(10000, 784)\n"
     ]
    }
   ],
   "source": [
    "# Add random noise\n",
    "corruption_level = 0.3\n",
    "\n",
    "x_train_noisy = x_train + corruption_level * np.random.normal(loc=0.0, scale=1.0, size=x_train.shape)\n",
    "x_test_noisy = x_test + corruption_level * np.random.normal(loc=0.0, scale=1.0, size=x_test.shape)\n",
    "x_train_noisy = np.clip(x_train_noisy, 0., 1.)\n",
    "x_test_noisy = np.clip(x_test_noisy, 0., 1.)\n",
    "print(x_train_noisy.shape)\n",
    "print(x_test_noisy.shape)"
   ]
  },
  {
   "cell_type": "markdown",
   "metadata": {
    "collapsed": true,
    "id": "sTNTT80Jmv8m"
   },
   "source": [
    "### Denoising Autoencoder"
   ]
  },
  {
   "cell_type": "code",
   "execution_count": 14,
   "metadata": {
    "colab": {
     "base_uri": "https://localhost:8080/",
     "height": 235
    },
    "id": "-jUHceMTmv8o",
    "outputId": "2f486b4b-1260-46c1-f786-c45f7b8f250a"
   },
   "outputs": [
    {
     "name": "stdout",
     "output_type": "stream",
     "text": [
      "Model: \"model_2\"\n",
      "_________________________________________________________________\n",
      " Layer (type)                Output Shape              Param #   \n",
      "=================================================================\n",
      " input_3 (InputLayer)        [(None, 784)]             0         \n",
      "                                                                 \n",
      " dense_4 (Dense)             (None, 32)                25120     \n",
      "                                                                 \n",
      " dense_5 (Dense)             (None, 784)               25872     \n",
      "                                                                 \n",
      "=================================================================\n",
      "Total params: 50,992\n",
      "Trainable params: 50,992\n",
      "Non-trainable params: 0\n",
      "_________________________________________________________________\n"
     ]
    }
   ],
   "source": [
    "# Hyper parameters\n",
    "batch_size = 128\n",
    "nb_epoch = 25\n",
    "\n",
    "# Parameters for MNIST dataset\n",
    "img_rows, img_cols = 28, 28\n",
    "\n",
    "# Parameters for denoising autoencoder\n",
    "nb_visible = img_rows * img_cols\n",
    "nb_hidden = 32\n",
    "\n",
    "# Build autoencoder model\n",
    "input_img = Input(shape=(nb_visible,))\n",
    "encoded = Dense(nb_hidden, activation='relu')(input_img)\n",
    "decoded = Dense(nb_visible, activation='sigmoid')(encoded)\n",
    "\n",
    "autoencoder = Model(inputs=input_img, outputs=decoded)\n",
    "autoencoder.compile(optimizer='adam', loss='binary_crossentropy')\n",
    "autoencoder.summary()"
   ]
  },
  {
   "cell_type": "markdown",
   "metadata": {
    "collapsed": true,
    "id": "hChGbB_5mv8s"
   },
   "source": [
    "### Training"
   ]
  },
  {
   "cell_type": "code",
   "execution_count": 15,
   "metadata": {
    "colab": {
     "base_uri": "https://localhost:8080/",
     "height": 218
    },
    "id": "-0MGx1Jsmv8s",
    "outputId": "711ea5b4-858f-4a3a-9d4d-a1f242f11e41"
   },
   "outputs": [
    {
     "name": "stdout",
     "output_type": "stream",
     "text": [
      "Epoch 1/25\n",
      "469/469 [==============================] - 4s 7ms/step - loss: 0.2335 - val_loss: 0.1765\n",
      "Epoch 2/25\n",
      "469/469 [==============================] - 3s 7ms/step - loss: 0.1584 - val_loss: 0.1417\n",
      "Epoch 3/25\n",
      "469/469 [==============================] - 3s 6ms/step - loss: 0.1342 - val_loss: 0.1256\n",
      "Epoch 4/25\n",
      "469/469 [==============================] - 3s 7ms/step - loss: 0.1232 - val_loss: 0.1188\n",
      "Epoch 5/25\n",
      "469/469 [==============================] - 3s 6ms/step - loss: 0.1188 - val_loss: 0.1163\n",
      "Epoch 6/25\n",
      "469/469 [==============================] - 3s 7ms/step - loss: 0.1170 - val_loss: 0.1150\n",
      "Epoch 7/25\n",
      "469/469 [==============================] - 3s 6ms/step - loss: 0.1162 - val_loss: 0.1144\n",
      "Epoch 8/25\n",
      "469/469 [==============================] - 3s 7ms/step - loss: 0.1157 - val_loss: 0.1139\n",
      "Epoch 9/25\n",
      "469/469 [==============================] - 3s 7ms/step - loss: 0.1143 - val_loss: 0.1126\n",
      "Epoch 10/25\n",
      "469/469 [==============================] - 3s 7ms/step - loss: 0.1137 - val_loss: 0.1122\n",
      "Epoch 11/25\n",
      "469/469 [==============================] - 3s 7ms/step - loss: 0.1135 - val_loss: 0.1120\n",
      "Epoch 12/25\n",
      "469/469 [==============================] - 3s 7ms/step - loss: 0.1132 - val_loss: 0.1118\n",
      "Epoch 13/25\n",
      "469/469 [==============================] - 3s 6ms/step - loss: 0.1127 - val_loss: 0.1109\n",
      "Epoch 14/25\n",
      "469/469 [==============================] - 3s 7ms/step - loss: 0.1118 - val_loss: 0.1104\n",
      "Epoch 15/25\n",
      "469/469 [==============================] - 3s 7ms/step - loss: 0.1116 - val_loss: 0.1101\n",
      "Epoch 16/25\n",
      "469/469 [==============================] - 3s 6ms/step - loss: 0.1114 - val_loss: 0.1100\n",
      "Epoch 17/25\n",
      "469/469 [==============================] - 3s 6ms/step - loss: 0.1111 - val_loss: 0.1098\n",
      "Epoch 18/25\n",
      "469/469 [==============================] - 3s 7ms/step - loss: 0.1110 - val_loss: 0.1097\n",
      "Epoch 19/25\n",
      "469/469 [==============================] - 3s 7ms/step - loss: 0.1108 - val_loss: 0.1097\n",
      "Epoch 20/25\n",
      "469/469 [==============================] - 3s 6ms/step - loss: 0.1107 - val_loss: 0.1094\n",
      "Epoch 21/25\n",
      "469/469 [==============================] - 3s 7ms/step - loss: 0.1106 - val_loss: 0.1092\n",
      "Epoch 22/25\n",
      "469/469 [==============================] - 3s 7ms/step - loss: 0.1105 - val_loss: 0.1092\n",
      "Epoch 23/25\n",
      "469/469 [==============================] - 3s 6ms/step - loss: 0.1104 - val_loss: 0.1091\n",
      "Epoch 24/25\n",
      "469/469 [==============================] - 3s 6ms/step - loss: 0.1103 - val_loss: 0.1091\n",
      "Epoch 25/25\n",
      "469/469 [==============================] - 3s 6ms/step - loss: 0.1102 - val_loss: 0.1091\n"
     ]
    }
   ],
   "source": [
    "# Train\n",
    "history=autoencoder.fit(x_train_noisy, x_train,\n",
    "                epochs=nb_epoch, batch_size=batch_size, shuffle=True, verbose=1,\n",
    "                validation_data=(x_test_noisy, x_test))"
   ]
  },
  {
   "cell_type": "markdown",
   "metadata": {
    "collapsed": true,
    "id": "3Gu4fwIwmv8y"
   },
   "source": [
    "### Evaluation"
   ]
  },
  {
   "cell_type": "code",
   "execution_count": 16,
   "metadata": {
    "colab": {
     "base_uri": "https://localhost:8080/",
     "height": 67
    },
    "id": "Y9wd6IQimv80",
    "outputId": "6b56fe3f-cab2-47f9-be9c-2ab530f502a3"
   },
   "outputs": [
    {
     "name": "stdout",
     "output_type": "stream",
     "text": [
      "79/79 [==============================] - 0s 4ms/step - loss: 0.1091\n",
      "\n",
      "Summary: Loss over the test dataset: 0.11\n"
     ]
    }
   ],
   "source": [
    "# Evaluate\n",
    "evaluation = autoencoder.evaluate(x_test_noisy, x_test, batch_size=batch_size, verbose=1)\n",
    "print('\\nSummary: Loss over the test dataset: %.2f' % (evaluation))"
   ]
  },
  {
   "cell_type": "markdown",
   "metadata": {
    "collapsed": true,
    "id": "UyXvB9Grmv87"
   },
   "source": [
    "### Visualize the reconstruction"
   ]
  },
  {
   "cell_type": "code",
   "execution_count": 17,
   "metadata": {
    "colab": {
     "base_uri": "https://localhost:8080/",
     "height": 264
    },
    "id": "znphSIOQmv89",
    "outputId": "16bd2899-2fc9-41c7-e450-22cb72580717"
   },
   "outputs": [
    {
     "name": "stdout",
     "output_type": "stream",
     "text": [
      "313/313 [==============================] - 1s 2ms/step\n"
     ]
    },
    {
     "data": {
      "image/png": "[encoded data removed]",
      "text/plain": [
       "<Figure size 1440x288 with 20 Axes>"
      ]
     },
     "metadata": {
      "needs_background": "light"
     },
     "output_type": "display_data"
    }
   ],
   "source": [
    "import matplotlib.pyplot as plt\n",
    "%matplotlib inline\n",
    "\n",
    "# Decode test images \n",
    "decoded_imgs = autoencoder.predict(x_test_noisy)\n",
    "\n",
    "n = 10  # how many digits we will display\n",
    "plt.figure(figsize=(20, 4))\n",
    "for i in range(n):\n",
    "    # display original\n",
    "    ax = plt.subplot(2, n, i + 1)\n",
    "    plt.imshow(x_test_noisy[i].reshape(28, 28))\n",
    "    plt.gray()\n",
    "    ax.get_xaxis().set_visible(False)\n",
    "    ax.get_yaxis().set_visible(False)\n",
    "\n",
    "    # display reconstruction\n",
    "    ax = plt.subplot(2, n, i + 1 + n)\n",
    "    plt.imshow(decoded_imgs[i].reshape(28, 28))\n",
    "    plt.gray()\n",
    "    ax.get_xaxis().set_visible(False)\n",
    "    ax.get_yaxis().set_visible(False)\n",
    "plt.show()"
   ]
  },
  {
   "cell_type": "code",
   "execution_count": 18,
   "metadata": {
    "id": "XhPyFgaIHYvV"
   },
   "outputs": [
    {
     "name": "stdout",
     "output_type": "stream",
     "text": [
      "dict_keys(['loss', 'val_loss'])\n"
     ]
    },
    {
     "data": {
      "image/png": "[encoded data removed]",
      "text/plain": [
       "<Figure size 432x288 with 1 Axes>"
      ]
     },
     "metadata": {
      "needs_background": "light"
     },
     "output_type": "display_data"
    }
   ],
   "source": [
    "print(history.history.keys())\n",
    "\n",
    "plt.plot(history.history['loss'])\n",
    "plt.plot(history.history['val_loss'])\n",
    "plt.title('model loss')\n",
    "plt.ylabel('loss')\n",
    "plt.xlabel('epoch')\n",
    "plt.legend(['train', 'validation'], loc='upper right')\n",
    "plt.show()"
   ]
  }
 ],
 "metadata": {
  "accelerator": "GPU",
  "colab": {
   "collapsed_sections": [],
   "name": "1_Autoencoder_and_Denoising_Autoencoder.ipynb",
   "provenance": []
  },
  "kernelspec": {
   "display_name": "Python 3 (ipykernel)",
   "language": "python",
   "name": "python3"
  },
  "language_info": {
   "codemirror_mode": {
    "name": "ipython",
    "version": 3
   },
   "file_extension": ".py",
   "mimetype": "text/x-python",
   "name": "python",
   "nbconvert_exporter": "python",
   "pygments_lexer": "ipython3",
   "version": "3.9.12"
  }
 },
 "nbformat": 4,
 "nbformat_minor": 1
}
