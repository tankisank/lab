{
 "cells": [
  {
   "cell_type": "code",
   "execution_count": 1,
   "metadata": {},
   "outputs": [
    {
     "data": {
      "text/html": [
       "\n",
       "            <div>\n",
       "                <p><b>SparkSession - hive</b></p>\n",
       "                \n",
       "        <div>\n",
       "            <p><b>SparkContext</b></p>\n",
       "\n",
       "            <p><a href=\"http://10.0.2.15:4040\">Spark UI</a></p>\n",
       "\n",
       "            <dl>\n",
       "              <dt>Version</dt>\n",
       "                <dd><code>v3.4.1</code></dd>\n",
       "              <dt>Master</dt>\n",
       "                <dd><code>local[*]</code></dd>\n",
       "              <dt>AppName</dt>\n",
       "                <dd><code>PySparkShell</code></dd>\n",
       "            </dl>\n",
       "        </div>\n",
       "        \n",
       "            </div>\n",
       "        "
      ],
      "text/plain": [
       "<pyspark.sql.session.SparkSession at 0x7f7ac43a1a90>"
      ]
     },
     "execution_count": 1,
     "metadata": {},
     "output_type": "execute_result"
    }
   ],
   "source": [
    "#importing the required pyspark library\n",
    "from pyspark.sql import SparkSession\n",
    "from pyspark.ml.evaluation import RegressionEvaluator\n",
    "from pyspark.ml.recommendation import ALS\n",
    "#Setup Spark Session\n",
    "spark = SparkSession.builder.appName('Recommender').getOrCreate()\n",
    "spark"
   ]
  },
  {
   "cell_type": "code",
   "execution_count": 2,
   "metadata": {},
   "outputs": [
    {
     "name": "stdout",
     "output_type": "stream",
     "text": [
      "+-------+-------+------+\n",
      "|book_id|user_id|rating|\n",
      "+-------+-------+------+\n",
      "|      1|    314|     5|\n",
      "|      1|    439|     3|\n",
      "|      1|    588|     5|\n",
      "|      1|   1169|     4|\n",
      "|      1|   1185|     4|\n",
      "+-------+-------+------+\n",
      "only showing top 5 rows\n",
      "\n",
      "+-------+-----------------+------------------+------------------+\n",
      "|summary|          book_id|           user_id|            rating|\n",
      "+-------+-----------------+------------------+------------------+\n",
      "|  count|           981756|            981756|            981756|\n",
      "|   mean|4943.275635697668|25616.759933221696|3.8565335989797873|\n",
      "| stddev|2873.207414896197| 15228.33882588251|0.9839408559620116|\n",
      "|    min|                1|                 1|                 1|\n",
      "|    max|            10000|             53424|                 5|\n",
      "+-------+-----------------+------------------+------------------+\n",
      "\n"
     ]
    }
   ],
   "source": [
    "#CSV file can be downloaded from the link mentioned above.\n",
    "data = spark.read.csv('book_ratings.csv', inferSchema=True,header=True)\n",
    "data.show(5)\n",
    "data.describe().show()"
   ]
  },
  {
   "cell_type": "code",
   "execution_count": 3,
   "metadata": {},
   "outputs": [],
   "source": [
    "# Dividing the data using random split into train_data and test_data\n",
    "# in 80% and 20% respectively\n",
    "train_data,test_data=data.randomSplit([0.8, 0.2])"
   ]
  },
  {
   "cell_type": "code",
   "execution_count": 4,
   "metadata": {},
   "outputs": [],
   "source": [
    "# Build the recommendation model using ALS on the training data\n",
    "als = ALS(maxIter=5,regParam=0.01,userCol=\"user_id\",itemCol=\"book_id\",ratingCol=\"rating\")\n",
    "#Fitting the model on the train_data\n",
    "model=als.fit(train_data)"
   ]
  },
  {
   "cell_type": "code",
   "execution_count": 5,
   "metadata": {},
   "outputs": [
    {
     "name": "stdout",
     "output_type": "stream",
     "text": [
      "+-------+-------+------+----------+\n",
      "|book_id|user_id|rating|prediction|\n",
      "+-------+-------+------+----------+\n",
      "|      1|   1169|     4| 3.7025928|\n",
      "|      1|   3922|     5|  4.678804|\n",
      "|      1|  10140|     4| 3.2282882|\n",
      "|      1|  10146|     5|  4.014236|\n",
      "|      1|  16377|     4|  4.925151|\n",
      "|      1|  17984|     5| 4.1260147|\n",
      "|      1|  21713|     5|  4.800112|\n",
      "|      1|  23612|     4| 4.1313086|\n",
      "|      1|  24845|     5| 4.0538073|\n",
      "|      1|  25214|     4| 5.6126328|\n",
      "|      1|  26145|     4| 3.7452974|\n",
      "|      1|  29123|     3| 3.0765924|\n",
      "|      1|  29703|     5| 3.8599162|\n",
      "|      1|  30681|     5| 4.3942995|\n",
      "|      1|  32305|     5| 3.4297605|\n",
      "|      1|  33065|     4| 4.7023225|\n",
      "|      1|  38082|     5|  5.106575|\n",
      "|      1|  41074|     3| 3.8541207|\n",
      "|      1|  42404|     5|  4.964979|\n",
      "|      1|  44243|     2|  3.934299|\n",
      "+-------+-------+------+----------+\n",
      "only showing top 20 rows\n",
      "\n"
     ]
    }
   ],
   "source": [
    "# Evaluate the model by computing the RMSE on the test data\n",
    "predictions = model.transform(test_data)\n",
    "#Displaying predictions calculated by the model\n",
    "predictions.show()"
   ]
  },
  {
   "cell_type": "code",
   "execution_count": 6,
   "metadata": {},
   "outputs": [
    {
     "name": "stdout",
     "output_type": "stream",
     "text": [
      "Root-mean-square error = nan\n"
     ]
    }
   ],
   "source": [
    "#Printing and calculating RMSE\n",
    "evaluator = RegressionEvaluator(metricName=\"rmse\",\n",
    "labelCol=\"rating\",predictionCol=\"prediction\")\n",
    "rmse = evaluator.evaluate(predictions)\n",
    "print(\"Root-mean-square error = \" + str(rmse))"
   ]
  },
  {
   "cell_type": "code",
   "execution_count": 7,
   "metadata": {},
   "outputs": [
    {
     "name": "stdout",
     "output_type": "stream",
     "text": [
      "+-------+-------+\n",
      "|book_id|user_id|\n",
      "+-------+-------+\n",
      "|      9|   5461|\n",
      "|     15|   5461|\n",
      "|     16|   5461|\n",
      "|     33|   5461|\n",
      "|     35|   5461|\n",
      "|     38|   5461|\n",
      "|     82|   5461|\n",
      "|    100|   5461|\n",
      "|    111|   5461|\n",
      "|    118|   5461|\n",
      "|    148|   5461|\n",
      "|    172|   5461|\n",
      "|    181|   5461|\n",
      "|    227|   5461|\n",
      "|    233|   5461|\n",
      "|    251|   5461|\n",
      "|    264|   5461|\n",
      "|    358|   5461|\n",
      "|    395|   5461|\n",
      "|    401|   5461|\n",
      "+-------+-------+\n",
      "only showing top 20 rows\n",
      "\n",
      "+-------+-------+----------+\n",
      "|book_id|user_id|prediction|\n",
      "+-------+-------+----------+\n",
      "|    100|   5461|  5.090668|\n",
      "|   1644|   5461|  4.983655|\n",
      "|    233|   5461|  4.830121|\n",
      "|   3613|   5461| 4.7577944|\n",
      "|     38|   5461| 4.6801224|\n",
      "|     82|   5461| 4.5605154|\n",
      "|    181|   5461|  4.490892|\n",
      "|   3889|   5461| 4.4586506|\n",
      "|     15|   5461| 4.4518332|\n",
      "|    172|   5461|  4.445932|\n",
      "|    844|   5461| 4.4169536|\n",
      "|    358|   5461| 4.4014845|\n",
      "|    118|   5461| 4.4006243|\n",
      "|    863|   5461|  4.390333|\n",
      "|    515|   5461|  4.382334|\n",
      "|    489|   5461| 4.3514934|\n",
      "|    478|   5461| 4.3464355|\n",
      "|   3293|   5461|  4.312753|\n",
      "|   3692|   5461| 4.2820582|\n",
      "|    401|   5461|  4.188113|\n",
      "+-------+-------+----------+\n",
      "only showing top 20 rows\n",
      "\n"
     ]
    }
   ],
   "source": [
    "#Filtering user with user id \"5461\" with book id on which it has given the reviews\n",
    "user1 = test_data.filter(test_data['user_id']==5461).select(['book_id','user_id'])\n",
    "#Displaying user1 data\n",
    "user1.show()\n",
    "\n",
    "#Traning and evaluating for user1 with our model trained with the help of training data\n",
    "recommendations = model.transform(user1)\n",
    "#Displaying the predictions of books for user1\n",
    "recommendations.orderBy('prediction',ascending=False).show()"
   ]
  },
  {
   "cell_type": "code",
   "execution_count": 8,
   "metadata": {},
   "outputs": [],
   "source": [
    "spark.stop()"
   ]
  },
  {
   "cell_type": "code",
   "execution_count": null,
   "metadata": {},
   "outputs": [],
   "source": []
  }
 ],
 "metadata": {
  "kernelspec": {
   "display_name": "Python 3",
   "language": "python",
   "name": "python3"
  },
  "language_info": {
   "codemirror_mode": {
    "name": "ipython",
    "version": 3
   },
   "file_extension": ".py",
   "mimetype": "text/x-python",
   "name": "python",
   "nbconvert_exporter": "python",
   "pygments_lexer": "ipython3",
   "version": "3.6.9"
  }
 },
 "nbformat": 4,
 "nbformat_minor": 2
}
