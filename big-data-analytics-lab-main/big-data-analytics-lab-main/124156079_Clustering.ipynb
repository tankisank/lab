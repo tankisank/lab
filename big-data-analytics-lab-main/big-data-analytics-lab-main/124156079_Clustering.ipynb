{
 "cells": [
  {
   "cell_type": "code",
   "execution_count": 21,
   "metadata": {},
   "outputs": [
    {
     "name": "stdout",
     "output_type": "stream",
     "text": [
      "Spark Version: 3.4.1\n"
     ]
    },
    {
     "name": "stderr",
     "output_type": "stream",
     "text": [
      "/home/admin123/Downloads/spark-3.4.1-bin-hadoop3/python/pyspark/context.py:317: FutureWarning: Python 3.7 support is deprecated in Spark 3.4.\n",
      "  warnings.warn(\"Python 3.7 support is deprecated in Spark 3.4.\", FutureWarning)\n"
     ]
    }
   ],
   "source": [
    "from pyspark.sql import SparkSession\n",
    "spark = SparkSession.builder.appName('cluster').getOrCreate()\n",
    "print('Spark Version: {}'.format(spark.version))\n"
   ]
  },
  {
   "cell_type": "code",
   "execution_count": 22,
   "metadata": {},
   "outputs": [
    {
     "name": "stdout",
     "output_type": "stream",
     "text": [
      "+-------------+----------------+-----------+--------------+---------+-------------------+--------------------+-------+----+---------+-------+-------+\n",
      "|fixed acidity|volatile acidity|citric acid|residual sugar|chlorides|free sulfur dioxide|total sulfur dioxide|density|  pH|sulphates|alcohol|quality|\n",
      "+-------------+----------------+-----------+--------------+---------+-------------------+--------------------+-------+----+---------+-------+-------+\n",
      "|          7.4|             0.7|        0.0|           1.9|    0.076|               11.0|                34.0| 0.9978|3.51|     0.56|    9.4|      5|\n",
      "|          7.8|            0.88|        0.0|           2.6|    0.098|               25.0|                67.0| 0.9968| 3.2|     0.68|    9.8|      5|\n",
      "|          7.8|            0.76|       0.04|           2.3|    0.092|               15.0|                54.0|  0.997|3.26|     0.65|    9.8|      5|\n",
      "|         11.2|            0.28|       0.56|           1.9|    0.075|               17.0|                60.0|  0.998|3.16|     0.58|    9.8|      6|\n",
      "|          7.4|             0.7|        0.0|           1.9|    0.076|               11.0|                34.0| 0.9978|3.51|     0.56|    9.4|      5|\n",
      "+-------------+----------------+-----------+--------------+---------+-------------------+--------------------+-------+----+---------+-------+-------+\n",
      "only showing top 5 rows\n",
      "\n"
     ]
    }
   ],
   "source": [
    "#Loading the data\n",
    "dataset = spark.read.csv(\"winequality_red.csv\",header=True,inferSchema=True)\n",
    "\n",
    "#show the data in the above file using the below command\n",
    "dataset.show(5)\n"
   ]
  },
  {
   "cell_type": "code",
   "execution_count": 23,
   "metadata": {},
   "outputs": [
    {
     "name": "stdout",
     "output_type": "stream",
     "text": [
      "root\n",
      " |-- fixed acidity: double (nullable = true)\n",
      " |-- volatile acidity: double (nullable = true)\n",
      " |-- citric acid: double (nullable = true)\n",
      " |-- residual sugar: double (nullable = true)\n",
      " |-- chlorides: double (nullable = true)\n",
      " |-- free sulfur dioxide: double (nullable = true)\n",
      " |-- total sulfur dioxide: double (nullable = true)\n",
      " |-- density: double (nullable = true)\n",
      " |-- pH: double (nullable = true)\n",
      " |-- sulphates: double (nullable = true)\n",
      " |-- alcohol: double (nullable = true)\n",
      " |-- quality: integer (nullable = true)\n",
      "\n"
     ]
    }
   ],
   "source": [
    "#Print schema\n",
    "dataset.printSchema()\n"
   ]
  },
  {
   "cell_type": "code",
   "execution_count": 24,
   "metadata": {},
   "outputs": [
    {
     "name": "stdout",
     "output_type": "stream",
     "text": [
      "+--------------------+\n",
      "|            features|\n",
      "+--------------------+\n",
      "|[7.4,0.7,0.0,1.9,...|\n",
      "|[7.8,0.88,0.0,2.6...|\n",
      "|[7.8,0.76,0.04,2....|\n",
      "|[11.2,0.28,0.56,1...|\n",
      "|[7.4,0.7,0.0,1.9,...|\n",
      "+--------------------+\n",
      "only showing top 5 rows\n",
      "\n"
     ]
    }
   ],
   "source": [
    "from pyspark.ml.feature import VectorAssembler\n",
    "\n",
    "vec_assembler = VectorAssembler(inputCols = dataset.columns,outputCol='features')\n",
    "\n",
    "final_data = vec_assembler.transform(dataset)\n",
    "final_data.select('features').show(5)\n"
   ]
  },
  {
   "cell_type": "code",
   "execution_count": 25,
   "metadata": {},
   "outputs": [
    {
     "name": "stdout",
     "output_type": "stream",
     "text": [
      "+--------------------+\n",
      "|      scaledFeatures|\n",
      "+--------------------+\n",
      "|[4.25019565141442...|\n",
      "|[4.47993595689628...|\n",
      "|[4.47993595689628...|\n",
      "|[6.43272855349210...|\n",
      "|[4.25019565141442...|\n",
      "+--------------------+\n",
      "only showing top 5 rows\n",
      "\n"
     ]
    }
   ],
   "source": [
    "from pyspark.ml.feature import StandardScaler\n",
    "\n",
    "scaler = StandardScaler(inputCol=\"features\",\n",
    "\t\t\t\t\t\toutputCol=\"scaledFeatures\",\n",
    "\t\t\t\t\t\twithStd=True,\n",
    "\t\t\t\t\t\twithMean=False)\n",
    "\n",
    "# Compute summary statistics by fitting the StandardScaler\n",
    "scalerModel = scaler.fit(final_data)\n",
    "\n",
    "# Normalize each feature to have unit standard deviation.\n",
    "final_data = scalerModel.transform(final_data)\n",
    "\n",
    "final_data.select('scaledFeatures').show(5)\n"
   ]
  },
  {
   "cell_type": "code",
   "execution_count": 26,
   "metadata": {},
   "outputs": [
    {
     "name": "stdout",
     "output_type": "stream",
     "text": [
      "Silhouette Score for k = 2 is 0.33626372350693345\n",
      "Silhouette Score for k = 3 is 0.2746044561696038\n",
      "Silhouette Score for k = 4 is 0.2589386733342629\n",
      "Silhouette Score for k = 5 is 0.2951192490557727\n",
      "Silhouette Score for k = 6 is 0.2731718358748832\n",
      "Silhouette Score for k = 7 is 0.236229279461118\n",
      "Silhouette Score for k = 8 is 0.2679250794081708\n",
      "Silhouette Score for k = 9 is 0.22058982547086797\n"
     ]
    }
   ],
   "source": [
    "#Importing the model\n",
    "from pyspark.ml.clustering import KMeans\n",
    "from pyspark.ml.evaluation import ClusteringEvaluator\n",
    "\n",
    "silhouette_score=[]\n",
    "\n",
    "evaluator = ClusteringEvaluator(predictionCol='prediction',\n",
    "\t\t\t\t\t\t\t\tfeaturesCol='scaledFeatures', \\\n",
    "\t\t\t\t\t\t\t\tmetricName='silhouette',\n",
    "\t\t\t\t\t\t\t\tdistanceMeasure='squaredEuclidean')\n",
    "\n",
    "for i in range(2,10):\n",
    "\tkmeans=KMeans(featuresCol='scaledFeatures', k=i)\n",
    "\tmodel=kmeans.fit(final_data)\n",
    "\tpredictions=model.transform(final_data)\n",
    "\tscore=evaluator.evaluate(predictions)\n",
    "\tsilhouette_score.append(score)\n",
    "\tprint('Silhouette Score for k =',i,'is',score)\n"
   ]
  },
  {
   "cell_type": "code",
   "execution_count": 27,
   "metadata": {
    "scrolled": false
   },
   "outputs": [
    {
     "data": {
      "image/png": "[encoded data removed]",
      "text/plain": [
       "<Figure size 432x288 with 1 Axes>"
      ]
     },
     "metadata": {},
     "output_type": "display_data"
    }
   ],
   "source": [
    "#Visualizing the silhouette scores in a plot\n",
    "import matplotlib.pyplot as plt\n",
    "\n",
    "plt.plot(range(2,10),silhouette_score)\n",
    "plt.xlabel('k')\n",
    "plt.ylabel('silhouette score')\n",
    "plt.title('Silhouette Score')\n",
    "plt.show()\n"
   ]
  },
  {
   "cell_type": "code",
   "execution_count": 28,
   "metadata": {},
   "outputs": [],
   "source": [
    "# Trains a k-means model.\n",
    "kmeans = KMeans(featuresCol='scaledFeatures',k=3)\n",
    "model = kmeans.fit(final_data)\n",
    "predictions = model.transform(final_data)\n"
   ]
  },
  {
   "cell_type": "code",
   "execution_count": 29,
   "metadata": {},
   "outputs": [
    {
     "name": "stdout",
     "output_type": "stream",
     "text": [
      "Cluster Centers: \n",
      "[  6.05362706   2.34966919   2.53468639   2.0631388    2.35282231\n",
      "   1.20511998   1.14422603 529.03382396  20.51885118   4.58109405\n",
      "   9.74509372   7.25834648]\n",
      "[  4.26324263   2.49651195   1.32670911   1.6396949    1.49904672\n",
      "   1.61423822   1.1734941  527.08826555  21.91901992   4.00245728\n",
      "  10.92439119   7.76602559]\n",
      "[  4.43340717   3.4555083    0.88306566   1.75709221   1.80437706\n",
      "   1.61702194   1.65873831 528.21189494  21.64943527   3.4931217\n",
      "   9.22638997   6.45403799]\n"
     ]
    }
   ],
   "source": [
    "# Printing cluster centers\n",
    "centers = model.clusterCenters()\n",
    "print(\"Cluster Centers: \")\n",
    "for center in centers:\n",
    "\tprint(center)\n"
   ]
  },
  {
   "cell_type": "code",
   "execution_count": 30,
   "metadata": {},
   "outputs": [
    {
     "name": "stdout",
     "output_type": "stream",
     "text": [
      "+----------+\n",
      "|prediction|\n",
      "+----------+\n",
      "|         2|\n",
      "|         2|\n",
      "|         2|\n",
      "|         0|\n",
      "|         2|\n",
      "+----------+\n",
      "only showing top 5 rows\n",
      "\n"
     ]
    }
   ],
   "source": [
    "predictions.select('prediction').show(5)\n"
   ]
  },
  {
   "cell_type": "code",
   "execution_count": 31,
   "metadata": {},
   "outputs": [],
   "source": [
    "#End Session\n",
    "spark.stop()\n"
   ]
  },
  {
   "cell_type": "code",
   "execution_count": 32,
   "metadata": {},
   "outputs": [],
   "source": [
    "from pyspark.sql import SparkSession\n",
    "from pyspark.ml.clustering import KMeans\n",
    "from pyspark.ml.feature import VectorAssembler"
   ]
  },
  {
   "cell_type": "code",
   "execution_count": 33,
   "metadata": {},
   "outputs": [
    {
     "name": "stderr",
     "output_type": "stream",
     "text": [
      "/home/admin123/Downloads/spark-3.4.1-bin-hadoop3/python/pyspark/context.py:317: FutureWarning: Python 3.7 support is deprecated in Spark 3.4.\n",
      "  warnings.warn(\"Python 3.7 support is deprecated in Spark 3.4.\", FutureWarning)\n"
     ]
    }
   ],
   "source": [
    "spark = SparkSession.builder \\\n",
    "    .appName(\"KMedoidsClustering\") \\\n",
    "    .getOrCreate()\n"
   ]
  },
  {
   "cell_type": "code",
   "execution_count": 34,
   "metadata": {},
   "outputs": [],
   "source": [
    "data = spark.read.csv(\"winequality_red.csv\", header=True, inferSchema=True)\n"
   ]
  },
  {
   "cell_type": "code",
   "execution_count": 35,
   "metadata": {},
   "outputs": [
    {
     "name": "stdout",
     "output_type": "stream",
     "text": [
      "+-------------+----------------+-----------+--------------+---------+-------------------+--------------------+-------+----+---------+-------+-------+--------------------+\n",
      "|fixed acidity|volatile acidity|citric acid|residual sugar|chlorides|free sulfur dioxide|total sulfur dioxide|density|  pH|sulphates|alcohol|quality|            features|\n",
      "+-------------+----------------+-----------+--------------+---------+-------------------+--------------------+-------+----+---------+-------+-------+--------------------+\n",
      "|          7.4|             0.7|        0.0|           1.9|    0.076|               11.0|                34.0| 0.9978|3.51|     0.56|    9.4|      5|[7.4,0.7,0.0,1.9,...|\n",
      "|          7.8|            0.88|        0.0|           2.6|    0.098|               25.0|                67.0| 0.9968| 3.2|     0.68|    9.8|      5|[7.8,0.88,0.0,2.6...|\n",
      "|          7.8|            0.76|       0.04|           2.3|    0.092|               15.0|                54.0|  0.997|3.26|     0.65|    9.8|      5|[7.8,0.76,0.04,2....|\n",
      "|         11.2|            0.28|       0.56|           1.9|    0.075|               17.0|                60.0|  0.998|3.16|     0.58|    9.8|      6|[11.2,0.28,0.56,1...|\n",
      "|          7.4|             0.7|        0.0|           1.9|    0.076|               11.0|                34.0| 0.9978|3.51|     0.56|    9.4|      5|[7.4,0.7,0.0,1.9,...|\n",
      "|          7.4|            0.66|        0.0|           1.8|    0.075|               13.0|                40.0| 0.9978|3.51|     0.56|    9.4|      5|[7.4,0.66,0.0,1.8...|\n",
      "|          7.9|             0.6|       0.06|           1.6|    0.069|               15.0|                59.0| 0.9964| 3.3|     0.46|    9.4|      5|[7.9,0.6,0.06,1.6...|\n",
      "|          7.3|            0.65|        0.0|           1.2|    0.065|               15.0|                21.0| 0.9946|3.39|     0.47|   10.0|      7|[7.3,0.65,0.0,1.2...|\n",
      "|          7.8|            0.58|       0.02|           2.0|    0.073|                9.0|                18.0| 0.9968|3.36|     0.57|    9.5|      7|[7.8,0.58,0.02,2....|\n",
      "|          7.5|             0.5|       0.36|           6.1|    0.071|               17.0|               102.0| 0.9978|3.35|      0.8|   10.5|      5|[7.5,0.5,0.36,6.1...|\n",
      "|          6.7|            0.58|       0.08|           1.8|    0.097|               15.0|                65.0| 0.9959|3.28|     0.54|    9.2|      5|[6.7,0.58,0.08,1....|\n",
      "|          7.5|             0.5|       0.36|           6.1|    0.071|               17.0|               102.0| 0.9978|3.35|      0.8|   10.5|      5|[7.5,0.5,0.36,6.1...|\n",
      "|          5.6|           0.615|        0.0|           1.6|    0.089|               16.0|                59.0| 0.9943|3.58|     0.52|    9.9|      5|[5.6,0.615,0.0,1....|\n",
      "|          7.8|            0.61|       0.29|           1.6|    0.114|                9.0|                29.0| 0.9974|3.26|     1.56|    9.1|      5|[7.8,0.61,0.29,1....|\n",
      "|          8.9|            0.62|       0.18|           3.8|    0.176|               52.0|               145.0| 0.9986|3.16|     0.88|    9.2|      5|[8.9,0.62,0.18,3....|\n",
      "|          8.9|            0.62|       0.19|           3.9|     0.17|               51.0|               148.0| 0.9986|3.17|     0.93|    9.2|      5|[8.9,0.62,0.19,3....|\n",
      "|          8.5|            0.28|       0.56|           1.8|    0.092|               35.0|               103.0| 0.9969| 3.3|     0.75|   10.5|      7|[8.5,0.28,0.56,1....|\n",
      "|          8.1|            0.56|       0.28|           1.7|    0.368|               16.0|                56.0| 0.9968|3.11|     1.28|    9.3|      5|[8.1,0.56,0.28,1....|\n",
      "|          7.4|            0.59|       0.08|           4.4|    0.086|                6.0|                29.0| 0.9974|3.38|      0.5|    9.0|      4|[7.4,0.59,0.08,4....|\n",
      "|          7.9|            0.32|       0.51|           1.8|    0.341|               17.0|                56.0| 0.9969|3.04|     1.08|    9.2|      6|[7.9,0.32,0.51,1....|\n",
      "+-------------+----------------+-----------+--------------+---------+-------------------+--------------------+-------+----+---------+-------+-------+--------------------+\n",
      "only showing top 20 rows\n",
      "\n"
     ]
    }
   ],
   "source": [
    "from pyspark.sql import SparkSession\n",
    "from pyspark.ml.feature import VectorAssembler\n",
    "\n",
    "# Create a Spark session\n",
    "spark = SparkSession.builder \\\n",
    "    .appName(\"VectorAssemblerExample\") \\\n",
    "    .getOrCreate()\n",
    "\n",
    "# Load the red wine dataset\n",
    "data = spark.read.csv(\"winequality_red.csv\", header=True, inferSchema=True)\n",
    "\n",
    "# List of feature column names\n",
    "feature_columns = [\"fixed acidity\", \"volatile acidity\", \"citric acid\", \"residual sugar\",\n",
    "                   \"chlorides\", \"free sulfur dioxide\", \"total sulfur dioxide\",\n",
    "                   \"density\", \"pH\", \"sulphates\", \"alcohol\"]\n",
    "\n",
    "# Create a VectorAssembler\n",
    "assembler = VectorAssembler(inputCols=feature_columns, outputCol=\"features\")\n",
    "\n",
    "# Transform the data using the VectorAssembler\n",
    "data_with_features = assembler.transform(data)\n",
    "\n",
    "# Show the resulting DataFrame\n",
    "data_with_features.show()\n"
   ]
  },
  {
   "cell_type": "code",
   "execution_count": 38,
   "metadata": {},
   "outputs": [],
   "source": [
    "k = 4  # Number of clusters\n",
    "max_iter = 10  # Maximum number of iterations\n",
    "\n",
    "kmedoids = KMeans().setK(k).setFeaturesCol(\"features\").setMaxIter(max_iter)\n",
    "model = kmedoids.fit(data_with_features)\n"
   ]
  },
  {
   "cell_type": "code",
   "execution_count": 39,
   "metadata": {},
   "outputs": [],
   "source": [
    "cluster_centers = model.clusterCenters()\n"
   ]
  },
  {
   "cell_type": "code",
   "execution_count": 40,
   "metadata": {},
   "outputs": [],
   "source": [
    "clustered_data = model.transform(data_with_features)\n"
   ]
  },
  {
   "cell_type": "code",
   "execution_count": 41,
   "metadata": {},
   "outputs": [
    {
     "name": "stdout",
     "output_type": "stream",
     "text": [
      "+--------------------+----------+\n",
      "|            features|prediction|\n",
      "+--------------------+----------+\n",
      "|[7.4,0.7,0.0,1.9,...|         3|\n",
      "|[7.8,0.88,0.0,2.6...|         2|\n",
      "|[7.8,0.76,0.04,2....|         0|\n",
      "|[11.2,0.28,0.56,1...|         0|\n",
      "|[7.4,0.7,0.0,1.9,...|         3|\n",
      "|[7.4,0.66,0.0,1.8...|         0|\n",
      "|[7.9,0.6,0.06,1.6...|         0|\n",
      "|[7.3,0.65,0.0,1.2...|         3|\n",
      "|[7.8,0.58,0.02,2....|         3|\n",
      "|[7.5,0.5,0.36,6.1...|         2|\n",
      "|[6.7,0.58,0.08,1....|         0|\n",
      "|[7.5,0.5,0.36,6.1...|         2|\n",
      "|[5.6,0.615,0.0,1....|         0|\n",
      "|[7.8,0.61,0.29,1....|         3|\n",
      "|[8.9,0.62,0.18,3....|         1|\n",
      "|[8.9,0.62,0.19,3....|         1|\n",
      "|[8.5,0.28,0.56,1....|         2|\n",
      "|[8.1,0.56,0.28,1....|         0|\n",
      "|[7.4,0.59,0.08,4....|         3|\n",
      "|[7.9,0.32,0.51,1....|         0|\n",
      "+--------------------+----------+\n",
      "only showing top 20 rows\n",
      "\n"
     ]
    }
   ],
   "source": [
    "clustered_data.select(\"features\", \"prediction\").show()\n"
   ]
  }
 ],
 "metadata": {
  "kernelspec": {
   "display_name": "Python 3",
   "language": "python",
   "name": "python3"
  },
  "language_info": {
   "codemirror_mode": {
    "name": "ipython",
    "version": 3
   },
   "file_extension": ".py",
   "mimetype": "text/x-python",
   "name": "python",
   "nbconvert_exporter": "python",
   "pygments_lexer": "ipython3",
   "version": "3.6.9"
  }
 },
 "nbformat": 4,
 "nbformat_minor": 2
}
