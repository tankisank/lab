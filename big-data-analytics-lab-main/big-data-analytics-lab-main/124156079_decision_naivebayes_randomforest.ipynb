{
 "cells": [
  {
   "cell_type": "code",
   "execution_count": 17,
   "metadata": {},
   "outputs": [
    {
     "name": "stderr",
     "output_type": "stream",
     "text": [
      "/home/admin123/Downloads/spark-3.4.1-bin-hadoop3/python/pyspark/context.py:317: FutureWarning: Python 3.7 support is deprecated in Spark 3.4.\n",
      "  warnings.warn(\"Python 3.7 support is deprecated in Spark 3.4.\", FutureWarning)\n"
     ]
    },
    {
     "name": "stdout",
     "output_type": "stream",
     "text": [
      "Accuracy: 0.9655172413793104\n"
     ]
    }
   ],
   "source": [
    "from pyspark.sql import SparkSession\n",
    "from pyspark.ml.feature import StringIndexer, VectorAssembler\n",
    "from pyspark.ml.classification import NaiveBayes\n",
    "from pyspark.ml.evaluation import MulticlassClassificationEvaluator\n",
    "\n",
    "# Create a Spark session\n",
    "spark = SparkSession.builder.appName(\"NaiveBayesExample\").getOrCreate()\n",
    "\n",
    "# Load the Iris dataset from the UCI Machine Learning Repository\n",
    "data = spark.read.csv(\"Iris.csv\", header=True, inferSchema=True)\n",
    "\n",
    "# Index the target column\n",
    "indexer = StringIndexer(inputCol=\"Species\", outputCol=\"species_index\")\n",
    "indexed_data = indexer.fit(data).transform(data)\n",
    "\n",
    "# Assemble feature vectors\n",
    "assembler = VectorAssembler(inputCols=[\"SepalLengthCm\", \"SepalWidthCm\", \"PetalLengthCm\", \"PetalWidthCm\"], outputCol=\"features\")\n",
    "assembled_data = assembler.transform(indexed_data)\n",
    "\n",
    "# Split the data into training and testing sets\n",
    "train_data, test_data = assembled_data.randomSplit([0.8, 0.2], seed=123)\n",
    "\n",
    "# Create a Naive Bayes model\n",
    "nb = NaiveBayes(featuresCol=\"features\", labelCol=\"species_index\")\n",
    "\n",
    "# Train the model\n",
    "nb_model = nb.fit(train_data)\n",
    "\n",
    "# Make predictions on the test data\n",
    "predictions = nb_model.transform(test_data)\n",
    "\n",
    "# Evaluate the model\n",
    "evaluator = MulticlassClassificationEvaluator(labelCol=\"species_index\", predictionCol=\"prediction\", metricName=\"accuracy\")\n",
    "accuracy1 = evaluator.evaluate(predictions)\n",
    "print(\"Accuracy:\", accuracy1)\n",
    "\n",
    "# Stop the Spark session\n",
    "spark.stop()\n"
   ]
  },
  {
   "cell_type": "code",
   "execution_count": null,
   "metadata": {},
   "outputs": [],
   "source": []
  },
  {
   "cell_type": "code",
   "execution_count": 18,
   "metadata": {},
   "outputs": [
    {
     "name": "stderr",
     "output_type": "stream",
     "text": [
      "/home/admin123/Downloads/spark-3.4.1-bin-hadoop3/python/pyspark/context.py:317: FutureWarning: Python 3.7 support is deprecated in Spark 3.4.\n",
      "  warnings.warn(\"Python 3.7 support is deprecated in Spark 3.4.\", FutureWarning)\n"
     ]
    },
    {
     "name": "stdout",
     "output_type": "stream",
     "text": [
      "Accuracy: 0.9310344827586207\n"
     ]
    }
   ],
   "source": [
    "from pyspark.sql import SparkSession\n",
    "from pyspark.ml.feature import StringIndexer, VectorAssembler\n",
    "from pyspark.ml.classification import DecisionTreeClassifier\n",
    "from pyspark.ml.evaluation import MulticlassClassificationEvaluator\n",
    "\n",
    "# Create a Spark session\n",
    "spark = SparkSession.builder.appName(\"DecisionTreeExample\").getOrCreate()\n",
    "\n",
    "# Load the Iris dataset from the UCI Machine Learning Repository\n",
    "data = spark.read.csv(\"Iris.csv\", header=True, inferSchema=True)\n",
    "\n",
    "# Index the target column\n",
    "indexer = StringIndexer(inputCol=\"Species\", outputCol=\"species_index\")\n",
    "indexed_data = indexer.fit(data).transform(data)\n",
    "\n",
    "# Assemble feature vectors\n",
    "assembler = VectorAssembler(inputCols=[\"SepalLengthCm\", \"SepalWidthCm\", \"PetalLengthCm\", \"PetalWidthCm\"], outputCol=\"features\")\n",
    "assembled_data = assembler.transform(indexed_data)\n",
    "\n",
    "# Split the data into training and testing sets\n",
    "train_data, test_data = assembled_data.randomSplit([0.8, 0.2], seed=123)\n",
    "\n",
    "# Create a Decision Tree classifier\n",
    "dt = DecisionTreeClassifier(featuresCol=\"features\", labelCol=\"species_index\")\n",
    "\n",
    "# Train the model\n",
    "dt_model = dt.fit(train_data)\n",
    "\n",
    "# Make predictions on the test data\n",
    "predictions = dt_model.transform(test_data)\n",
    "\n",
    "# Evaluate the model\n",
    "evaluator = MulticlassClassificationEvaluator(labelCol=\"species_index\", predictionCol=\"prediction\", metricName=\"accuracy\")\n",
    "accuracy2 = evaluator.evaluate(predictions)\n",
    "print(\"Accuracy:\", accuracy2)\n",
    "\n",
    "# Stop the Spark session\n",
    "spark.stop()\n"
   ]
  },
  {
   "cell_type": "code",
   "execution_count": 21,
   "metadata": {},
   "outputs": [
    {
     "data": {
      "image/png": "[encoded data removed]",
      "text/plain": [
       "<Figure size 432x288 with 1 Axes>"
      ]
     },
     "metadata": {},
     "output_type": "display_data"
    }
   ],
   "source": [
    "import matplotlib.pyplot as plt\n",
    "\n",
    "# Sample data\n",
    "categories = ['naive bayes', 'decision tree']\n",
    "values = [96, 93]\n",
    "\n",
    "# Create a bar plot\n",
    "plt.bar(categories, values)\n",
    "\n",
    "\n",
    "plt.title(\"accuracy check\")\n",
    "# Display the plot\n",
    "plt.show()\n",
    "\n"
   ]
  },
  {
   "cell_type": "code",
   "execution_count": null,
   "metadata": {},
   "outputs": [],
   "source": []
  }
 ],
 "metadata": {
  "kernelspec": {
   "display_name": "Python 3",
   "language": "python",
   "name": "python3"
  }
 },
 "nbformat": 4,
 "nbformat_minor": 2
}
